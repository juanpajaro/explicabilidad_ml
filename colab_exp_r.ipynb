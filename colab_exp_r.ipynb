{
 "cells": [
  {
   "cell_type": "code",
   "execution_count": 1,
   "id": "95ce66c4",
   "metadata": {},
   "outputs": [],
   "source": [
    "import numpy as np"
   ]
  },
  {
   "cell_type": "code",
   "execution_count": 3,
   "id": "f8715c14",
   "metadata": {},
   "outputs": [],
   "source": [
    "vocabulary = np.load('./tokens/vocab.npy')\n",
    "X_train = np.load('./tokens/X_train.npy')\n",
    "X_test = np.load('./tokens/X_test.npy')\n",
    "y_train = np.load('./tokens/y_train.npy')\n",
    "y_test = np.load('./tokens/y_test.npy')\n",
    "X_train = X_train.astype(np.int32)\n",
    "X_test = X_test.astype(np.int32)\n",
    "y_train = y_train.astype(np.int32)\n",
    "y_test = y_test.astype(np.int32)"
   ]
  },
  {
   "cell_type": "code",
   "execution_count": 5,
   "id": "8e0af28b",
   "metadata": {},
   "outputs": [],
   "source": [
    "# Paso 1: Importar las librerías necesarias\n",
    "import tensorflow as tf\n",
    "# Paso 3: Cargar el modelo .h5 (ajusta la ruta si es necesario)\n",
    "# Por ejemplo: '/content/drive/MyDrive/modelo.h5'\n",
    "ruta_modelo = './lstm_v66.h5'\n",
    "model = tf.keras.models.load_model(ruta_modelo)"
   ]
  },
  {
   "cell_type": "code",
   "execution_count": 6,
   "id": "839ea3c4",
   "metadata": {},
   "outputs": [],
   "source": [
    "predictions = model(X_test).numpy()"
   ]
  },
  {
   "cell_type": "code",
   "execution_count": 7,
   "id": "c8fec539",
   "metadata": {},
   "outputs": [],
   "source": [
    "class_indices = predictions.argmax(axis=1)"
   ]
  },
  {
   "cell_type": "code",
   "execution_count": 8,
   "id": "534b9443",
   "metadata": {},
   "outputs": [],
   "source": [
    "X_test = np.array(X_test, dtype=np.float32)\n",
    "class_indices = np.array(class_indices, dtype=np.int64)\n",
    "baselines = np.zeros_like(X_test, dtype=np.float32)"
   ]
  },
  {
   "cell_type": "code",
   "execution_count": 14,
   "id": "d2d4566a",
   "metadata": {},
   "outputs": [
    {
     "name": "stdout",
     "output_type": "stream",
     "text": [
      "[[0. 0. 0. ... 0. 0. 0.]\n",
      " [0. 0. 0. ... 0. 0. 0.]\n",
      " [0. 0. 0. ... 0. 0. 0.]\n",
      " ...\n",
      " [0. 0. 0. ... 0. 0. 0.]\n",
      " [0. 0. 0. ... 0. 0. 0.]\n",
      " [0. 0. 0. ... 0. 0. 0.]]\n"
     ]
    }
   ],
   "source": [
    "print(baselines)"
   ]
  },
  {
   "cell_type": "code",
   "execution_count": 9,
   "id": "08b18977",
   "metadata": {},
   "outputs": [
    {
     "name": "stdout",
     "output_type": "stream",
     "text": [
      "X_test: <class 'numpy.ndarray'> (76, 730) float32\n",
      "baselines: <class 'numpy.ndarray'> (76, 730) float32\n",
      "class_indices: <class 'numpy.ndarray'> (76,) int64\n"
     ]
    }
   ],
   "source": [
    "print(\"X_test:\", type(X_test), X_test.shape, X_test.dtype)\n",
    "print(\"baselines:\", type(baselines), baselines.shape, baselines.dtype)\n",
    "print(\"class_indices:\", type(class_indices), class_indices.shape, class_indices.dtype)"
   ]
  },
  {
   "cell_type": "code",
   "execution_count": 10,
   "id": "2c4319b6",
   "metadata": {},
   "outputs": [
    {
     "name": "stdout",
     "output_type": "stream",
     "text": [
      "Model: \"sequential_1\"\n",
      "_________________________________________________________________\n",
      " Layer (type)                Output Shape              Param #   \n",
      "=================================================================\n",
      " embedding_1 (Embedding)     (None, 730, 200)          200000    \n",
      "                                                                 \n",
      " bidirectional_1 (Bidirecti  (None, 128)               135680    \n",
      " onal)                                                           \n",
      "                                                                 \n",
      " dense_2 (Dense)             (None, 64)                8256      \n",
      "                                                                 \n",
      " dense_3 (Dense)             (None, 1)                 65        \n",
      "                                                                 \n",
      "=================================================================\n",
      "Total params: 344001 (1.31 MB)\n",
      "Trainable params: 344001 (1.31 MB)\n",
      "Non-trainable params: 0 (0.00 Byte)\n",
      "_________________________________________________________________\n"
     ]
    }
   ],
   "source": [
    "model.summary()"
   ]
  },
  {
   "cell_type": "code",
   "execution_count": 12,
   "id": "23c8397c",
   "metadata": {},
   "outputs": [
    {
     "name": "stderr",
     "output_type": "stream",
     "text": [
      "/home/pajaro/anaconda3/envs/ali_env_v1/lib/python3.9/site-packages/tqdm/auto.py:21: TqdmWarning: IProgress not found. Please update jupyter and ipywidgets. See https://ipywidgets.readthedocs.io/en/stable/user_install.html\n",
      "  from .autonotebook import tqdm as notebook_tqdm\n",
      "2025-05-12 15:10:56,881\tINFO util.py:154 -- Missing packages: ['ipywidgets']. Run `pip install -U ipywidgets`, then restart the notebook server for rich notebook output.\n"
     ]
    }
   ],
   "source": [
    "from alibi.explainers import IntegratedGradients"
   ]
  },
  {
   "cell_type": "code",
   "execution_count": 13,
   "id": "ebe3462f",
   "metadata": {},
   "outputs": [
    {
     "ename": "ValueError",
     "evalue": "Attempt to convert a value (None) with an unsupported type (<class 'NoneType'>) to a Tensor.",
     "output_type": "error",
     "traceback": [
      "\u001b[0;31m---------------------------------------------------------------------------\u001b[0m",
      "\u001b[0;31mValueError\u001b[0m                                Traceback (most recent call last)",
      "Cell \u001b[0;32mIn[13], line 9\u001b[0m\n\u001b[1;32m      3\u001b[0m internal_batch_size \u001b[38;5;241m=\u001b[39m \u001b[38;5;241m100\u001b[39m\n\u001b[1;32m      4\u001b[0m ig  \u001b[38;5;241m=\u001b[39m IntegratedGradients(model,\n\u001b[1;32m      5\u001b[0m                           layer\u001b[38;5;241m=\u001b[39m\u001b[38;5;28;01mNone\u001b[39;00m,\n\u001b[1;32m      6\u001b[0m                           n_steps\u001b[38;5;241m=\u001b[39mn_steps,\n\u001b[1;32m      7\u001b[0m                           method\u001b[38;5;241m=\u001b[39mmethod,\n\u001b[1;32m      8\u001b[0m                           internal_batch_size\u001b[38;5;241m=\u001b[39minternal_batch_size)\n\u001b[0;32m----> 9\u001b[0m explanation \u001b[38;5;241m=\u001b[39m \u001b[43mig\u001b[49m\u001b[38;5;241;43m.\u001b[39;49m\u001b[43mexplain\u001b[49m\u001b[43m(\u001b[49m\u001b[43mX_test\u001b[49m\u001b[43m,\u001b[49m\n\u001b[1;32m     10\u001b[0m \u001b[43m                         \u001b[49m\u001b[43mbaselines\u001b[49m\u001b[38;5;241;43m=\u001b[39;49m\u001b[43mbaselines\u001b[49m\u001b[43m,\u001b[49m\n\u001b[1;32m     11\u001b[0m \u001b[43m                         \u001b[49m\u001b[43mtarget\u001b[49m\u001b[38;5;241;43m=\u001b[39;49m\u001b[43mclass_indices\u001b[49m\u001b[43m,\u001b[49m\n\u001b[1;32m     12\u001b[0m \u001b[43m                         \u001b[49m\u001b[43mattribute_to_layer_inputs\u001b[49m\u001b[38;5;241;43m=\u001b[39;49m\u001b[38;5;28;43;01mFalse\u001b[39;49;00m\u001b[43m)\u001b[49m\n",
      "File \u001b[0;32m~/anaconda3/envs/ali_env_v1/lib/python3.9/site-packages/alibi/explainers/integrated_gradients.py:1044\u001b[0m, in \u001b[0;36mIntegratedGradients.explain\u001b[0;34m(self, X, forward_kwargs, baselines, target, attribute_to_layer_inputs)\u001b[0m\n\u001b[1;32m   1042\u001b[0m _check_target(\u001b[38;5;28mself\u001b[39m\u001b[38;5;241m.\u001b[39mmodel\u001b[38;5;241m.\u001b[39moutput_shape, target, nb_samples)\n\u001b[1;32m   1043\u001b[0m \u001b[38;5;28;01mif\u001b[39;00m \u001b[38;5;28mself\u001b[39m\u001b[38;5;241m.\u001b[39mlayer \u001b[38;5;129;01mis\u001b[39;00m \u001b[38;5;28;01mNone\u001b[39;00m:\n\u001b[0;32m-> 1044\u001b[0m     attributions \u001b[38;5;241m=\u001b[39m \u001b[38;5;28;43mself\u001b[39;49m\u001b[38;5;241;43m.\u001b[39;49m\u001b[43m_compute_attributions_tensor_input\u001b[49m\u001b[43m(\u001b[49m\u001b[43mX\u001b[49m\u001b[43m,\u001b[49m\n\u001b[1;32m   1045\u001b[0m \u001b[43m                                                           \u001b[49m\u001b[43mbaselines\u001b[49m\u001b[43m,\u001b[49m\n\u001b[1;32m   1046\u001b[0m \u001b[43m                                                           \u001b[49m\u001b[43mtarget\u001b[49m\u001b[43m,\u001b[49m\n\u001b[1;32m   1047\u001b[0m \u001b[43m                                                           \u001b[49m\u001b[43mstep_sizes\u001b[49m\u001b[43m,\u001b[49m\n\u001b[1;32m   1048\u001b[0m \u001b[43m                                                           \u001b[49m\u001b[43malphas\u001b[49m\u001b[43m,\u001b[49m\n\u001b[1;32m   1049\u001b[0m \u001b[43m                                                           \u001b[49m\u001b[43mnb_samples\u001b[49m\u001b[43m,\u001b[49m\n\u001b[1;32m   1050\u001b[0m \u001b[43m                                                           \u001b[49m\u001b[43mforward_kwargs\u001b[49m\u001b[43m,\u001b[49m\n\u001b[1;32m   1051\u001b[0m \u001b[43m                                                           \u001b[49m\u001b[43mattribute_to_layer_inputs\u001b[49m\u001b[43m)\u001b[49m\n\u001b[1;32m   1053\u001b[0m \u001b[38;5;28;01melse\u001b[39;00m:\n\u001b[1;32m   1054\u001b[0m     \u001b[38;5;66;03m# forwad inputs and  baselines\u001b[39;00m\n\u001b[1;32m   1055\u001b[0m     X_layer, baselines_layer \u001b[38;5;241m=\u001b[39m _forward_input_baseline(X,\n\u001b[1;32m   1056\u001b[0m                                                        baselines,  \u001b[38;5;66;03m# type: ignore[arg-type]\u001b[39;00m\n\u001b[1;32m   1057\u001b[0m                                                        \u001b[38;5;28mself\u001b[39m\u001b[38;5;241m.\u001b[39mmodel,\n\u001b[0;32m   (...)\u001b[0m\n\u001b[1;32m   1060\u001b[0m                                                        forward_kwargs\u001b[38;5;241m=\u001b[39mforward_kwargs,\n\u001b[1;32m   1061\u001b[0m                                                        forward_to_inputs\u001b[38;5;241m=\u001b[39mattribute_to_layer_inputs)\n",
      "File \u001b[0;32m~/anaconda3/envs/ali_env_v1/lib/python3.9/site-packages/alibi/explainers/integrated_gradients.py:1362\u001b[0m, in \u001b[0;36mIntegratedGradients._compute_attributions_tensor_input\u001b[0;34m(self, X, baselines, target, step_sizes, alphas, nb_samples, forward_kwargs, compute_layer_inputs_gradients)\u001b[0m\n\u001b[1;32m   1360\u001b[0m \u001b[38;5;66;03m# calculate attributions from gradients batches\u001b[39;00m\n\u001b[1;32m   1361\u001b[0m attributions \u001b[38;5;241m=\u001b[39m []\n\u001b[0;32m-> 1362\u001b[0m sum_int \u001b[38;5;241m=\u001b[39m \u001b[43m_calculate_sum_int\u001b[49m\u001b[43m(\u001b[49m\u001b[43m[\u001b[49m\u001b[43mbatches\u001b[49m\u001b[43m]\u001b[49m\u001b[43m,\u001b[49m\u001b[43m \u001b[49m\u001b[38;5;28;43mself\u001b[39;49m\u001b[38;5;241;43m.\u001b[39;49m\u001b[43mmodel\u001b[49m\u001b[43m,\u001b[49m\n\u001b[1;32m   1363\u001b[0m \u001b[43m                             \u001b[49m\u001b[43mtarget\u001b[49m\u001b[43m,\u001b[49m\u001b[43m \u001b[49m\u001b[43mtarget_paths\u001b[49m\u001b[43m,\u001b[49m\n\u001b[1;32m   1364\u001b[0m \u001b[43m                             \u001b[49m\u001b[38;5;28;43mself\u001b[39;49m\u001b[38;5;241;43m.\u001b[39;49m\u001b[43mn_steps\u001b[49m\u001b[43m,\u001b[49m\u001b[43m \u001b[49m\u001b[43mnb_samples\u001b[49m\u001b[43m,\u001b[49m\n\u001b[1;32m   1365\u001b[0m \u001b[43m                             \u001b[49m\u001b[43mstep_sizes\u001b[49m\u001b[43m,\u001b[49m\u001b[43m \u001b[49m\u001b[38;5;241;43m0\u001b[39;49m\u001b[43m)\u001b[49m\n\u001b[1;32m   1366\u001b[0m norm \u001b[38;5;241m=\u001b[39m X \u001b[38;5;241m-\u001b[39m baselines\n\u001b[1;32m   1368\u001b[0m attribution \u001b[38;5;241m=\u001b[39m norm \u001b[38;5;241m*\u001b[39m sum_int\n",
      "File \u001b[0;32m~/anaconda3/envs/ali_env_v1/lib/python3.9/site-packages/alibi/explainers/integrated_gradients.py:740\u001b[0m, in \u001b[0;36m_calculate_sum_int\u001b[0;34m(batches, model, target, target_paths, n_steps, nb_samples, step_sizes, j)\u001b[0m\n\u001b[1;32m    706\u001b[0m \u001b[38;5;28;01mdef\u001b[39;00m\u001b[38;5;250m \u001b[39m\u001b[38;5;21m_calculate_sum_int\u001b[39m(batches: List[List[tf\u001b[38;5;241m.\u001b[39mTensor]],\n\u001b[1;32m    707\u001b[0m                        model: Union[tf\u001b[38;5;241m.\u001b[39mkeras\u001b[38;5;241m.\u001b[39mModel],\n\u001b[1;32m    708\u001b[0m                        target: Optional[np\u001b[38;5;241m.\u001b[39mndarray],\n\u001b[0;32m   (...)\u001b[0m\n\u001b[1;32m    712\u001b[0m                        step_sizes: List[\u001b[38;5;28mfloat\u001b[39m],\n\u001b[1;32m    713\u001b[0m                        j: \u001b[38;5;28mint\u001b[39m) \u001b[38;5;241m-\u001b[39m\u001b[38;5;241m>\u001b[39m Union[tf\u001b[38;5;241m.\u001b[39mTensor, np\u001b[38;5;241m.\u001b[39mndarray]:\n\u001b[1;32m    714\u001b[0m \u001b[38;5;250m    \u001b[39m\u001b[38;5;124;03m\"\"\"\u001b[39;00m\n\u001b[1;32m    715\u001b[0m \u001b[38;5;124;03m    Calculates the sum of all the terms in the integral from a list of batch gradients.\u001b[39;00m\n\u001b[1;32m    716\u001b[0m \n\u001b[0;32m   (...)\u001b[0m\n\u001b[1;32m    738\u001b[0m \u001b[38;5;124;03m    Sums of the gradients along the chosen path.\u001b[39;00m\n\u001b[1;32m    739\u001b[0m \u001b[38;5;124;03m    \"\"\"\u001b[39;00m\n\u001b[0;32m--> 740\u001b[0m     grads \u001b[38;5;241m=\u001b[39m \u001b[43mtf\u001b[49m\u001b[38;5;241;43m.\u001b[39;49m\u001b[43mconcat\u001b[49m\u001b[43m(\u001b[49m\u001b[43mbatches\u001b[49m\u001b[43m[\u001b[49m\u001b[43mj\u001b[49m\u001b[43m]\u001b[49m\u001b[43m,\u001b[49m\u001b[43m \u001b[49m\u001b[38;5;241;43m0\u001b[39;49m\u001b[43m)\u001b[49m\n\u001b[1;32m    741\u001b[0m     shape \u001b[38;5;241m=\u001b[39m grads\u001b[38;5;241m.\u001b[39mshape[\u001b[38;5;241m1\u001b[39m:]\n\u001b[1;32m    742\u001b[0m     \u001b[38;5;28;01mif\u001b[39;00m \u001b[38;5;28misinstance\u001b[39m(shape, tf\u001b[38;5;241m.\u001b[39mTensorShape):\n",
      "File \u001b[0;32m~/anaconda3/envs/ali_env_v1/lib/python3.9/site-packages/tensorflow/python/util/traceback_utils.py:153\u001b[0m, in \u001b[0;36mfilter_traceback.<locals>.error_handler\u001b[0;34m(*args, **kwargs)\u001b[0m\n\u001b[1;32m    151\u001b[0m \u001b[38;5;28;01mexcept\u001b[39;00m \u001b[38;5;167;01mException\u001b[39;00m \u001b[38;5;28;01mas\u001b[39;00m e:\n\u001b[1;32m    152\u001b[0m   filtered_tb \u001b[38;5;241m=\u001b[39m _process_traceback_frames(e\u001b[38;5;241m.\u001b[39m__traceback__)\n\u001b[0;32m--> 153\u001b[0m   \u001b[38;5;28;01mraise\u001b[39;00m e\u001b[38;5;241m.\u001b[39mwith_traceback(filtered_tb) \u001b[38;5;28;01mfrom\u001b[39;00m\u001b[38;5;250m \u001b[39m\u001b[38;5;28;01mNone\u001b[39;00m\n\u001b[1;32m    154\u001b[0m \u001b[38;5;28;01mfinally\u001b[39;00m:\n\u001b[1;32m    155\u001b[0m   \u001b[38;5;28;01mdel\u001b[39;00m filtered_tb\n",
      "File \u001b[0;32m~/anaconda3/envs/ali_env_v1/lib/python3.9/site-packages/tensorflow/python/framework/constant_op.py:102\u001b[0m, in \u001b[0;36mconvert_to_eager_tensor\u001b[0;34m(value, ctx, dtype)\u001b[0m\n\u001b[1;32m    100\u001b[0m     dtype \u001b[38;5;241m=\u001b[39m dtypes\u001b[38;5;241m.\u001b[39mas_dtype(dtype)\u001b[38;5;241m.\u001b[39mas_datatype_enum\n\u001b[1;32m    101\u001b[0m ctx\u001b[38;5;241m.\u001b[39mensure_initialized()\n\u001b[0;32m--> 102\u001b[0m \u001b[38;5;28;01mreturn\u001b[39;00m \u001b[43mops\u001b[49m\u001b[38;5;241;43m.\u001b[39;49m\u001b[43mEagerTensor\u001b[49m\u001b[43m(\u001b[49m\u001b[43mvalue\u001b[49m\u001b[43m,\u001b[49m\u001b[43m \u001b[49m\u001b[43mctx\u001b[49m\u001b[38;5;241;43m.\u001b[39;49m\u001b[43mdevice_name\u001b[49m\u001b[43m,\u001b[49m\u001b[43m \u001b[49m\u001b[43mdtype\u001b[49m\u001b[43m)\u001b[49m\n",
      "\u001b[0;31mValueError\u001b[0m: Attempt to convert a value (None) with an unsupported type (<class 'NoneType'>) to a Tensor."
     ]
    }
   ],
   "source": [
    "n_steps = 50\n",
    "method = \"gausslegendre\"\n",
    "internal_batch_size = 100\n",
    "ig  = IntegratedGradients(model,\n",
    "                          layer=None,\n",
    "                          n_steps=n_steps,\n",
    "                          method=method,\n",
    "                          internal_batch_size=internal_batch_size)\n",
    "explanation = ig.explain(X_test,\n",
    "                         baselines=baselines,\n",
    "                         target=class_indices,\n",
    "                         attribute_to_layer_inputs=False)"
   ]
  },
  {
   "cell_type": "code",
   "execution_count": null,
   "id": "1bb2c74e",
   "metadata": {},
   "outputs": [],
   "source": []
  }
 ],
 "metadata": {
  "kernelspec": {
   "display_name": "ali_env_v1",
   "language": "python",
   "name": "python3"
  },
  "language_info": {
   "codemirror_mode": {
    "name": "ipython",
    "version": 3
   },
   "file_extension": ".py",
   "mimetype": "text/x-python",
   "name": "python",
   "nbconvert_exporter": "python",
   "pygments_lexer": "ipython3",
   "version": "3.9.21"
  }
 },
 "nbformat": 4,
 "nbformat_minor": 5
}
